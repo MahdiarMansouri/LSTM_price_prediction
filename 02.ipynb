{
 "cells": [
  {
   "cell_type": "code",
   "execution_count": 1,
   "outputs": [],
   "source": [
    "import numpy as np\n",
    "import pandas as pd\n",
    "import matplotlib.pyplot as plt\n",
    "import torch\n",
    "import torch.nn as nn\n",
    "from torch.utils.data import DataLoader, TensorDataset\n",
    "from sklearn.preprocessing import MinMaxScaler\n",
    "from datetime import datetime"
   ],
   "metadata": {
    "collapsed": false,
    "ExecuteTime": {
     "end_time": "2024-03-07T10:01:12.272207400Z",
     "start_time": "2024-03-07T10:01:06.890622800Z"
    }
   },
   "id": "f920ae643c65704d"
  },
  {
   "cell_type": "code",
   "execution_count": 2,
   "outputs": [],
   "source": [
    "def load_and_normalize_data(filepath, last_n_days=30):\n",
    "    df = pd.read_csv(filepath)\n",
    "    close_prices = df[['Close']].values\n",
    "    # print(len(close_prices))\n",
    "    # print(close_prices.shape)\n",
    "    # Normalize the data\n",
    "    # Exclude the last 30 days for the training set\n",
    "    training_data = close_prices[:-last_n_days]\n",
    "    testing_data = close_prices[-last_n_days:]\n",
    "    return torch.FloatTensor(training_data), torch.FloatTensor(testing_data), torch.FloatTensor(close_prices)"
   ],
   "metadata": {
    "collapsed": false,
    "ExecuteTime": {
     "end_time": "2024-03-07T10:01:13.707405600Z",
     "start_time": "2024-03-07T10:01:13.675512400Z"
    }
   },
   "id": "f81ddd097adfa0f2"
  },
  {
   "cell_type": "code",
   "execution_count": 3,
   "outputs": [
    {
     "name": "stdout",
     "output_type": "stream",
     "text": [
      "336\n",
      "torch.Size([336, 1])\n",
      "30\n",
      "366\n"
     ]
    }
   ],
   "source": [
    "t, v, df = load_and_normalize_data('BTC-USD.csv', last_n_days=30)\n",
    "print(len(t))\n",
    "print(t.shape)\n",
    "print(len(v))\n",
    "print(len(df))"
   ],
   "metadata": {
    "collapsed": false,
    "ExecuteTime": {
     "end_time": "2024-03-07T10:01:14.271532Z",
     "start_time": "2024-03-07T10:01:14.222695100Z"
    }
   },
   "id": "19ac2cd721cd7a47"
  },
  {
   "cell_type": "code",
   "execution_count": 4,
   "outputs": [],
   "source": [
    "def create_inout_sequences(input_data, tw):\n",
    "    inout_seq = []\n",
    "    L = len(input_data)\n",
    "    for i in range(L - tw - 1):\n",
    "        train_seq = input_data[i:i + tw]\n",
    "        train_label = input_data[i + tw:i + tw + 1]\n",
    "        inout_seq.append((train_seq, train_label))\n",
    "        # print(inout_seq.shape)\n",
    "    return inout_seq"
   ],
   "metadata": {
    "collapsed": false,
    "ExecuteTime": {
     "end_time": "2024-03-07T10:01:14.841624900Z",
     "start_time": "2024-03-07T10:01:14.829665800Z"
    }
   },
   "id": "bfa0e4dc93a9be48"
  },
  {
   "cell_type": "code",
   "execution_count": 36,
   "outputs": [],
   "source": [
    "def prepare_datasets(data, features, last_n_days, batch_size, train_ratio=0.7, val_ratio=0.2, test_ratio=0.1,\n",
    "                     use_scaler=True):\n",
    "    # Ensure the split ratios sum to 1\n",
    "    # assert (train_ratio + val_ratio + test_ratio) == 1, \"Ratios must sum to 1\"\n",
    "\n",
    "    # Select the specified features from the dataset\n",
    "    selected_data = data[features].values  # Assuming 'data' is a DataFrame\n",
    "\n",
    "    # Normalize the dataset if use_scaler is True\n",
    "    if use_scaler:\n",
    "        scaler = MinMaxScaler(feature_range=(0, 1))\n",
    "        scaled_data = scaler.fit_transform(selected_data)\n",
    "    else:\n",
    "        scaled_data = selected_data\n",
    "\n",
    "    # Create sequences\n",
    "    X, y = [], []\n",
    "    for i in range(last_n_days, len(scaled_data)):\n",
    "        X.append(scaled_data[i - last_n_days:i])\n",
    "        y.append(scaled_data[i, :])  # Assumes you want to predict all features at the next time step\n",
    "    X, y = np.array(X), np.array(y)\n",
    "\n",
    "    # Convert to PyTorch tensors\n",
    "    X_tensor, y_tensor = torch.FloatTensor(X), torch.FloatTensor(y)\n",
    "\n",
    "    # Calculate split sizes\n",
    "    total_samples = X_tensor.size(0)\n",
    "    train_size = int(total_samples * train_ratio)\n",
    "    val_size = int(total_samples * val_ratio)\n",
    "    test_size = total_samples - train_size - val_size\n",
    "\n",
    "    # Split the data\n",
    "    train_X, train_y = X_tensor[:train_size], y_tensor[:train_size]\n",
    "    val_X, val_y = X_tensor[train_size:train_size + val_size], y_tensor[train_size:train_size + val_size]\n",
    "    test_X, test_y = X_tensor[-test_size:], y_tensor[-test_size:]\n",
    "\n",
    "    # Wrap the datasets with TensorDataset\n",
    "    train_dataset = TensorDataset(train_X, train_y)\n",
    "    val_dataset = TensorDataset(val_X, val_y)\n",
    "    test_dataset = TensorDataset(test_X, test_y)\n",
    "\n",
    "    # Create DataLoader objects\n",
    "    train_loader = DataLoader(train_dataset, batch_size=batch_size, shuffle=False)\n",
    "    val_loader = DataLoader(val_dataset, batch_size=batch_size, shuffle=False)\n",
    "    test_loader = DataLoader(test_dataset, batch_size=batch_size, shuffle=False)\n",
    "\n",
    "    return train_loader, val_loader, test_loader\n",
    "\n",
    "# Example usage\n",
    "# Assuming 'btc_data' is your DataFrame containing the BTC dataset\n",
    "# features_to_use = ['Close', 'Open', 'Low']  # Specify the features you want to use\n",
    "# batch_size = 64  # Define your batch size\n",
    "# train_loader, val_loader, test_loader = prepare_datasets(btc_data, features_to_use, last_n_days=60, batch_size=batch_size, use_scaler=True)\n"
   ],
   "metadata": {
    "collapsed": false,
    "ExecuteTime": {
     "end_time": "2024-03-07T10:09:01.335238100Z",
     "start_time": "2024-03-07T10:09:01.291277500Z"
    }
   },
   "id": "c73cb2bf3b9b4d5d"
  },
  {
   "cell_type": "code",
   "execution_count": 37,
   "outputs": [],
   "source": [
    "class LSTM_GRU_Model(nn.Module):\n",
    "    def __init__(self, input_size=1, hidden_layer_size=64, output_size=1):\n",
    "        super().__init__()\n",
    "        self.hidden_layer_size = hidden_layer_size\n",
    "\n",
    "        # LSTM Layer\n",
    "        self.init_lstm = nn.LSTM(input_size, hidden_layer_size, batch_first=True)\n",
    "        self.lstm = nn.LSTM(hidden_layer_size, hidden_layer_size, batch_first=True)\n",
    "\n",
    "        # GRU Layer - input size matches LSTM output size (hidden_layer_size)\n",
    "        self.gru = nn.GRU(hidden_layer_size, hidden_layer_size, batch_first=True)\n",
    "        self.s_gru = nn.GRU(hidden_layer_size // 2, hidden_layer_size // 4, batch_first=True)\n",
    "        self.s2_gru = nn.GRU(hidden_layer_size // 4, hidden_layer_size, batch_first=True)\n",
    "        self.gru_after_bi = nn.GRU(hidden_layer_size * 2, hidden_layer_size, batch_first=True)\n",
    "\n",
    "        # Linear layer to get to the output size\n",
    "        self.linear = nn.Linear(hidden_layer_size, output_size)\n",
    "\n",
    "    def forward(self, input_seq):\n",
    "        # LSTM layer\n",
    "        lstm_out, _ = self.init_lstm(input_seq)\n",
    "        # lstm_out, _ = self.lstm(lstm_out)\n",
    "        # lstm_out, _ = self.lstm(lstm_out)\n",
    "        # lstm_out, _ = self.lstm(lstm_out)\n",
    "\n",
    "        # GRU layer\n",
    "        gru_out, _ = self.gru(lstm_out)\n",
    "        # lstm_out, _ = self.lstm(gru_out)\n",
    "        # gru_out, _ = self.s_gru(gru_out)\n",
    "        # gru_out, _ = self.s2_gru(gru_out)\n",
    "        # gru_out, _ = self.gru(gru_out)\n",
    "        # gru_out, _ = self.gru(gru_out)\n",
    "\n",
    "        # We use the output of the GRU layer for our predictions\n",
    "        predictions = self.linear(gru_out[:, -1, :])\n",
    "        return predictions"
   ],
   "metadata": {
    "collapsed": false,
    "ExecuteTime": {
     "end_time": "2024-03-07T10:09:02.274653200Z",
     "start_time": "2024-03-07T10:09:02.238773200Z"
    }
   },
   "id": "38fcd5de71430c25"
  },
  {
   "cell_type": "code",
   "execution_count": 38,
   "outputs": [],
   "source": [
    "def train_val_model(model, train_loader, val_loader, loss_function, optimizer, epochs=10):\n",
    "    for i in range(epochs):\n",
    "        # train loop\n",
    "        train_loss_list = []\n",
    "        train_running_loss = 0.0\n",
    "        s0 = datetime.now()\n",
    "        for seq, labels in train_loader:\n",
    "            optimizer.zero_grad()\n",
    "            # print(seq)\n",
    "            # print(labels)\n",
    "            # exit()\n",
    "\n",
    "            y_pred = model(seq)\n",
    "            labels = labels.view(-1, 1)\n",
    "\n",
    "            single_loss = loss_function(y_pred, labels)\n",
    "            train_running_loss += single_loss.item() * seq.size(0)\n",
    "\n",
    "            single_loss.backward()\n",
    "            optimizer.step()\n",
    "\n",
    "        # Calculate train loss\n",
    "        train_loss = train_running_loss / len(train_loader)\n",
    "        train_loss_list.append(train_loss)\n",
    "\n",
    "        # test loop\n",
    "        val_loss_list = []\n",
    "        val_running_loss = 0.0\n",
    "        model.eval()\n",
    "        test_predictions = []\n",
    "        actual_prices = []\n",
    "        with torch.no_grad():\n",
    "            for seq, labels in val_loader:\n",
    "                predict_price = model(seq)\n",
    "                labels = labels.view(-1, 1)\n",
    "\n",
    "                test_predictions.append(predict_price)\n",
    "                actual_prices.append(labels)\n",
    "\n",
    "                single_loss = loss_function(predict_price, labels)\n",
    "                val_running_loss += single_loss.item()\n",
    "        # print(val_running_loss)\n",
    "        # print(len(test_loader))\n",
    "        val_loss = val_running_loss / len(val_loader)\n",
    "        val_loss_list.append(val_loss)\n",
    "\n",
    "        timing = datetime.now() - s0\n",
    "        print(f'Epoch {i} | train_loss: {train_loss} | val_loss: {val_loss} | time: {timing}')\n"
   ],
   "metadata": {
    "collapsed": false,
    "ExecuteTime": {
     "end_time": "2024-03-07T10:09:02.552849500Z",
     "start_time": "2024-03-07T10:09:02.531918300Z"
    }
   },
   "id": "e48ae1832108f172"
  },
  {
   "cell_type": "code",
   "execution_count": 39,
   "outputs": [],
   "source": [
    "def train_val_model(model, train_loader, val_loader, loss_function, optimizer, device, epochs=10):\n",
    "    model.to(device)  \n",
    "    \n",
    "    # Initialize loss lists \n",
    "    train_loss_list = []\n",
    "    val_loss_list = []\n",
    "    \n",
    "    for i in range(epochs):\n",
    "        model.train()\n",
    "        train_running_loss = 0.0\n",
    "        s0 = datetime.now()\n",
    "        for seq, labels in train_loader:\n",
    "            seq, labels = seq.to(device), labels.to(device)\n",
    "            \n",
    "            optimizer.zero_grad()\n",
    "            y_pred = model(seq)\n",
    "            labels = labels.view(-1, 1)  \n",
    "\n",
    "            single_loss = loss_function(y_pred, labels)\n",
    "            train_running_loss += single_loss.item() * seq.size(0)\n",
    "            \n",
    "            single_loss.backward()\n",
    "            optimizer.step()\n",
    "\n",
    "        # Calculate train loss for this epoch\n",
    "        train_loss = train_running_loss / len(train_loader.dataset)\n",
    "        train_loss_list.append(train_loss)\n",
    "        \n",
    "        # Validation loop\n",
    "        val_running_loss = 0.0\n",
    "        model.eval()\n",
    "        with torch.no_grad():\n",
    "            for seq, labels in val_loader:\n",
    "                seq, labels = seq.to(device), labels.to(device)\n",
    "                \n",
    "                predict_price = model(seq)\n",
    "                labels = labels.view(-1, 1)  \n",
    "\n",
    "                single_loss = loss_function(predict_price, labels)\n",
    "                val_running_loss += single_loss.item() * seq.size(0)\n",
    "                \n",
    "        # Calculate validation loss for this epoch\n",
    "        val_loss = val_running_loss / len(val_loader.dataset)\n",
    "        val_loss_list.append(val_loss)\n",
    "\n",
    "        timing = datetime.now() - s0\n",
    "        print(f'Epoch {i} | train_loss: {train_loss:.4f} | val_loss: {val_loss:.4f} | time: {timing}')\n",
    "\n",
    "    return train_loss_list, val_loss_list\n"
   ],
   "metadata": {
    "collapsed": false,
    "ExecuteTime": {
     "end_time": "2024-03-07T10:09:02.808Z",
     "start_time": "2024-03-07T10:09:02.791056800Z"
    }
   },
   "id": "342d9decd5d1eae2"
  },
  {
   "cell_type": "code",
   "execution_count": 40,
   "outputs": [],
   "source": [
    "def evaluate_model(model, test_loader, device, loss_function):\n",
    "    model.eval()  \n",
    "    test_running_loss = 0.0\n",
    "    \n",
    "    with torch.no_grad(): \n",
    "        for seq, labels in test_loader:\n",
    "            seq, labels = seq.to(device), labels.to(device)\n",
    "            labels = labels.view(-1, 1)  \n",
    "            \n",
    "            y_pred = model(seq)\n",
    "            single_loss = loss_function(y_pred, labels)\n",
    "            test_running_loss += single_loss.item() * seq.size(0)\n",
    "            \n",
    "    test_loss = test_running_loss / len(test_loader.dataset)\n",
    "    print(f'Test Loss: {test_loss:.4f}')\n",
    "    \n",
    "    return test_loss"
   ],
   "metadata": {
    "collapsed": false,
    "ExecuteTime": {
     "end_time": "2024-03-07T10:09:03.046304400Z",
     "start_time": "2024-03-07T10:09:03.022384700Z"
    }
   },
   "id": "4ffc8cb12f951832"
  },
  {
   "cell_type": "code",
   "execution_count": 41,
   "outputs": [],
   "source": [
    "\n",
    "def plot_predictions(full_data, predict_data, last_n_days=30):\n",
    "    # Plot the full dataset\n",
    "    plt.figure(figsize=(14, 7))\n",
    "    plt.plot(df.index, df['Close'], label='Actual Prices', color='grey', alpha=0.5)\n",
    "\n",
    "    # Highlight the last N days in the dataset for actual prices\n",
    "    plt.plot(df.index[-last_n_days:], df['Close'][-last_n_days:], label='Last N Days Actual Prices', color='blue')\n",
    "\n",
    "    # Assuming predictions_scaled is a numpy array with the shape (last_n_days, 1)\n",
    "    # And the last N days are the target of these predictions\n",
    "    # Create a range for the last N days\n",
    "    prediction_dates = df.index[-last_n_days:]\n",
    "    plt.plot(prediction_dates, predictions_scaled, label='Predicted Prices', linestyle='--', color='red')\n",
    "\n",
    "    plt.title('Bitcoin Price Prediction - Full Year with Last N Days Highlighted')\n",
    "    plt.xlabel('Date')\n",
    "    plt.ylabel('Price')\n",
    "    plt.legend()\n",
    "    plt.show()\n"
   ],
   "metadata": {
    "collapsed": false,
    "ExecuteTime": {
     "end_time": "2024-03-07T10:09:03.405143300Z",
     "start_time": "2024-03-07T10:09:03.384213500Z"
    }
   },
   "id": "48d852a23b799c95"
  },
  {
   "cell_type": "code",
   "execution_count": 62,
   "outputs": [
    {
     "name": "stdout",
     "output_type": "stream",
     "text": [
      "device is:  cuda:0\n",
      "Epoch 0 | train_loss: 0.0203 | val_loss: 0.0022 | time: 0:00:00.851448\n",
      "Epoch 1 | train_loss: 0.0095 | val_loss: 0.0016 | time: 0:00:00.477403\n",
      "Epoch 2 | train_loss: 0.0088 | val_loss: 0.0012 | time: 0:00:00.469439\n",
      "Epoch 3 | train_loss: 0.0082 | val_loss: 0.0009 | time: 0:00:00.474415\n",
      "Epoch 4 | train_loss: 0.0079 | val_loss: 0.0008 | time: 0:00:00.460469\n",
      "Epoch 5 | train_loss: 0.0073 | val_loss: 0.0007 | time: 0:00:00.467436\n",
      "Epoch 6 | train_loss: 0.0067 | val_loss: 0.0006 | time: 0:00:00.461473\n",
      "Epoch 7 | train_loss: 0.0059 | val_loss: 0.0006 | time: 0:00:00.485376\n",
      "Epoch 8 | train_loss: 0.0049 | val_loss: 0.0006 | time: 0:00:00.462462\n",
      "Epoch 9 | train_loss: 0.0037 | val_loss: 0.0006 | time: 0:00:00.487370\n",
      "Epoch 10 | train_loss: 0.0027 | val_loss: 0.0007 | time: 0:00:00.495342\n",
      "Epoch 11 | train_loss: 0.0024 | val_loss: 0.0007 | time: 0:00:00.464465\n",
      "Epoch 12 | train_loss: 0.0017 | val_loss: 0.0007 | time: 0:00:00.495343\n",
      "Epoch 13 | train_loss: 0.0015 | val_loss: 0.0006 | time: 0:00:00.479807\n",
      "Epoch 14 | train_loss: 0.0010 | val_loss: 0.0005 | time: 0:00:00.460898\n",
      "Epoch 15 | train_loss: 0.0008 | val_loss: 0.0003 | time: 0:00:00.459462\n",
      "Epoch 16 | train_loss: 0.0006 | val_loss: 0.0003 | time: 0:00:00.479397\n",
      "Epoch 17 | train_loss: 0.0005 | val_loss: 0.0002 | time: 0:00:00.466448\n",
      "Epoch 18 | train_loss: 0.0004 | val_loss: 0.0001 | time: 0:00:00.461456\n",
      "Epoch 19 | train_loss: 0.0003 | val_loss: 0.0001 | time: 0:00:00.483392\n",
      "Epoch 20 | train_loss: 0.0002 | val_loss: 0.0000 | time: 0:00:00.458496\n",
      "Epoch 21 | train_loss: 0.0001 | val_loss: 0.0000 | time: 0:00:00.473417\n",
      "Epoch 22 | train_loss: 0.0001 | val_loss: 0.0000 | time: 0:00:00.462462\n",
      "Epoch 23 | train_loss: 0.0001 | val_loss: 0.0000 | time: 0:00:00.457478\n",
      "Epoch 24 | train_loss: 0.0001 | val_loss: 0.0000 | time: 0:00:00.475421\n",
      "Epoch 25 | train_loss: 0.0001 | val_loss: 0.0000 | time: 0:00:00.457978\n",
      "Epoch 26 | train_loss: 0.0001 | val_loss: 0.0000 | time: 0:00:00.485382\n",
      "Epoch 27 | train_loss: 0.0001 | val_loss: 0.0000 | time: 0:00:00.495343\n",
      "Epoch 28 | train_loss: 0.0001 | val_loss: 0.0000 | time: 0:00:00.471459\n",
      "Epoch 29 | train_loss: 0.0001 | val_loss: 0.0000 | time: 0:00:00.462356\n",
      "Epoch 30 | train_loss: 0.0001 | val_loss: 0.0000 | time: 0:00:00.462938\n",
      "Epoch 31 | train_loss: 0.0001 | val_loss: 0.0000 | time: 0:00:00.465443\n",
      "Epoch 32 | train_loss: 0.0001 | val_loss: 0.0000 | time: 0:00:00.463759\n",
      "Epoch 33 | train_loss: 0.0001 | val_loss: 0.0000 | time: 0:00:00.486641\n",
      "Epoch 34 | train_loss: 0.0001 | val_loss: 0.0000 | time: 0:00:00.459463\n",
      "Epoch 35 | train_loss: 0.0001 | val_loss: 0.0000 | time: 0:00:00.485883\n",
      "Epoch 36 | train_loss: 0.0001 | val_loss: 0.0000 | time: 0:00:00.489362\n",
      "Epoch 37 | train_loss: 0.0001 | val_loss: 0.0000 | time: 0:00:00.458548\n",
      "Epoch 38 | train_loss: 0.0001 | val_loss: 0.0000 | time: 0:00:00.478399\n",
      "Epoch 39 | train_loss: 0.0001 | val_loss: 0.0000 | time: 0:00:00.492742\n"
     ]
    },
    {
     "data": {
      "text/plain": "([0.020342738236350605,\n  0.009535011375864723,\n  0.008807359324672151,\n  0.008241548486659775,\n  0.007876986978598033,\n  0.007253231265601496,\n  0.006699909893604633,\n  0.005946564197004686,\n  0.0048889818805310644,\n  0.003674283264691222,\n  0.0026944839472701964,\n  0.0023997620682622276,\n  0.0016517730505826462,\n  0.0015168819847591818,\n  0.0009521805940859278,\n  0.000846024667009547,\n  0.0006052128696015654,\n  0.0004938790049986336,\n  0.000377722273819534,\n  0.0002768865478965983,\n  0.00019046981247474262,\n  0.00011868829137550124,\n  8.426005016183168e-05,\n  0.00011135477549855181,\n  9.965808999569038e-05,\n  9.18386581789544e-05,\n  8.736262046001256e-05,\n  8.338966784294342e-05,\n  7.976696443058893e-05,\n  7.719511019948731e-05,\n  7.626021118166698e-05,\n  7.659358822556268e-05,\n  7.671941286018396e-05,\n  7.521344114897773e-05,\n  7.235386984811569e-05,\n  6.903746470688849e-05,\n  6.534626106404058e-05,\n  6.149970731329581e-05,\n  5.8911619148467134e-05,\n  5.8273432940766214e-05],\n [0.0022465721417779727,\n  0.0015644985359421996,\n  0.0011925580724705157,\n  0.00089714779236406,\n  0.0007670081200060618,\n  0.0006690846156109565,\n  0.0006281934102641428,\n  0.0006057246830275228,\n  0.0006105519538788601,\n  0.0006431621180355129,\n  0.0006748114438692476,\n  0.0007101926679822272,\n  0.000711343706389502,\n  0.000561325426869194,\n  0.0005042732227449653,\n  0.0003357552376539248,\n  0.0002612233524636897,\n  0.0001918453516498856,\n  0.0001305369249838121,\n  7.12253955126736e-05,\n  2.6736150991005932e-05,\n  5.7569741248639895e-06,\n  4.095004612877007e-06,\n  4.2881033122010795e-06,\n  4.010864724616476e-06,\n  3.954226172812409e-06,\n  4.214113107148688e-06,\n  4.446496100750505e-06,\n  4.592303170435347e-06,\n  4.865577053929272e-06,\n  5.595701622388783e-06,\n  6.689915587448004e-06,\n  7.263629221791471e-06,\n  6.944964064873551e-06,\n  6.476293972770197e-06,\n  5.919016382297744e-06,\n  4.785822233676607e-06,\n  3.4706247998723234e-06,\n  3.1645648170064585e-06,\n  3.1765518242505426e-06])"
     },
     "execution_count": 62,
     "metadata": {},
     "output_type": "execute_result"
    }
   ],
   "source": [
    "features_to_use = ['close']  \n",
    "df = pd.read_csv('XAUUSD-M15')\n",
    "train, val, test = prepare_datasets(df, features_to_use, last_n_days=60, batch_size=128, use_scaler=True)\n",
    "\n",
    "model = LSTM_GRU_Model(hidden_layer_size=128)\n",
    "loss_function = nn.MSELoss()\n",
    "optimizer = torch.optim.Adam(model.parameters(), lr=0.001)\n",
    "device = torch.device(\"cuda:0\" if torch.cuda.is_available() else \"cpu\")\n",
    "print('device is: ', device)\n",
    "train_val_model(model, train, val, loss_function, optimizer, device, epochs=40)\n"
   ],
   "metadata": {
    "collapsed": false,
    "ExecuteTime": {
     "end_time": "2024-03-07T10:16:37.882945800Z",
     "start_time": "2024-03-07T10:16:18.523915800Z"
    }
   },
   "id": "5534dbd7fffcf0b"
  },
  {
   "cell_type": "code",
   "execution_count": 63,
   "outputs": [
    {
     "name": "stdout",
     "output_type": "stream",
     "text": [
      "Test Loss: 0.0000\n"
     ]
    },
    {
     "data": {
      "text/plain": "1.9017089689540446e-06"
     },
     "execution_count": 63,
     "metadata": {},
     "output_type": "execute_result"
    }
   ],
   "source": [
    "evaluate_model(model, test, device, loss_function)"
   ],
   "metadata": {
    "collapsed": false,
    "ExecuteTime": {
     "end_time": "2024-03-07T10:16:39.791078300Z",
     "start_time": "2024-03-07T10:16:39.679451200Z"
    }
   },
   "id": "92203aab37e1dc2a"
  },
  {
   "cell_type": "code",
   "execution_count": 64,
   "outputs": [],
   "source": [
    "import matplotlib.pyplot as plt\n",
    "\n",
    "def plot_predictions(actual, predicted, title='Actual vs Predicted'):\n",
    "    plt.figure(figsize=(10,6))\n",
    "    plt.scatter([a for a in range(len(actual))], actual, label='Actual Values', color='blue')\n",
    "    plt.scatter([a for a in range(len(predicted))], predicted, label='Predicted Values', color='red', linestyle='--')\n",
    "    plt.title(title)\n",
    "    plt.xlabel('Time')\n",
    "    plt.ylabel('Value')\n",
    "    plt.legend()\n",
    "    plt.show()\n"
   ],
   "metadata": {
    "collapsed": false,
    "ExecuteTime": {
     "end_time": "2024-03-07T10:16:42.741495200Z",
     "start_time": "2024-03-07T10:16:42.723555500Z"
    }
   },
   "id": "66b53a7b77e17afc"
  },
  {
   "cell_type": "code",
   "execution_count": 65,
   "outputs": [
    {
     "data": {
      "text/plain": "<Figure size 1000x600 with 1 Axes>",
      "image/png": "[encoded data removed]"
     },
     "metadata": {},
     "output_type": "display_data"
    }
   ],
   "source": [
    "actual_prices = []\n",
    "predicted_prices = []\n",
    "\n",
    "model.eval()\n",
    "for dataloader in [test]:\n",
    "    with torch.no_grad():\n",
    "        for seq, labels in dataloader:\n",
    "            seq, labels = seq.to(device), labels.to(device)\n",
    "            \n",
    "            # Predict\n",
    "            predictions = model(seq)\n",
    "            \n",
    "            # Collect actual and predicted values\n",
    "            actual_prices.extend(labels.cpu().view(-1).numpy())\n",
    "            predicted_prices.extend(predictions.cpu().view(-1).numpy())\n",
    "\n",
    "# Assuming your test_loader doesn't shuffle the data, so the sequences are in order\n",
    "plot_predictions(actual_prices, predicted_prices, title='BTC Price Prediction')\n"
   ],
   "metadata": {
    "collapsed": false,
    "ExecuteTime": {
     "end_time": "2024-03-07T10:16:43.661427900Z",
     "start_time": "2024-03-07T10:16:43.133195700Z"
    }
   },
   "id": "dd13bcd8556cfe64"
  },
  {
   "cell_type": "code",
   "execution_count": null,
   "outputs": [],
   "source": [
    "filepath = 'EURUSD=X(1).csv'\n",
    "seq_length = 90\n",
    "train_data, val_data, df = load_and_normalize_data(filepath, last_n_days=200)\n",
    "train_sequences = create_inout_sequences(train_data, seq_length)\n",
    "# print(train_sequences[0])\n",
    "val_sequences = create_inout_sequences(val_data, seq_length)\n",
    "train_loader = DataLoader(train_sequences, batch_size=200)\n",
    "for seq, labels in train_loader:\n",
    "    print('seq: ', seq.shape)\n",
    "    print('labels: ', labels.shape)\n",
    "    exit()\n",
    "val_loader = DataLoader(val_sequences, batch_size=64)\n",
    "model = LSTM_GRU_Model(hidden_layer_size=64)\n",
    "loss_function = nn.MSELoss()\n",
    "optimizer = torch.optim.Adam(model.parameters(), lr=0.001)\n",
    "train_val_model(model, train_loader, val_loader, loss_function, optimizer, epochs=10)\n"
   ],
   "metadata": {
    "collapsed": false,
    "ExecuteTime": {
     "start_time": "2024-03-07T09:54:14.552929100Z"
    }
   },
   "id": "25fc1f36a096afc0"
  },
  {
   "cell_type": "code",
   "execution_count": null,
   "outputs": [],
   "source": [
    "len(val_loader)"
   ],
   "metadata": {
    "collapsed": false,
    "ExecuteTime": {
     "start_time": "2024-03-07T09:54:14.552929100Z"
    }
   },
   "id": "e1b398dd034b8ef3"
  },
  {
   "cell_type": "code",
   "execution_count": null,
   "outputs": [],
   "source": [],
   "metadata": {
    "collapsed": false,
    "ExecuteTime": {
     "start_time": "2024-03-07T09:54:14.553925800Z"
    }
   },
   "id": "655f7bc9c126e9e6"
  }
 ],
 "metadata": {
  "kernelspec": {
   "display_name": "Python 3",
   "language": "python",
   "name": "python3"
  },
  "language_info": {
   "codemirror_mode": {
    "name": "ipython",
    "version": 2
   },
   "file_extension": ".py",
   "mimetype": "text/x-python",
   "name": "python",
   "nbconvert_exporter": "python",
   "pygments_lexer": "ipython2",
   "version": "2.7.6"
  }
 },
 "nbformat": 4,
 "nbformat_minor": 5
}
